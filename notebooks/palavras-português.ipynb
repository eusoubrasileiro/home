{
 "cells": [
  {
   "cell_type": "code",
   "execution_count": 1,
   "metadata": {},
   "outputs": [
    {
     "name": "stdout",
     "output_type": "stream",
     "text": [
      "/home/andre/Projects/home\n"
     ]
    }
   ],
   "source": [
    "%cd ~/Projects/home/"
   ]
  },
  {
   "cell_type": "code",
   "execution_count": 17,
   "metadata": {},
   "outputs": [],
   "source": [
    "with open('br-utf8.txt') as f:\n",
    "    words = f.read().split('\\n')\n"
   ]
  },
  {
   "cell_type": "code",
   "execution_count": 18,
   "metadata": {},
   "outputs": [
    {
     "data": {
      "text/plain": [
       "['AC',\n",
       " 'Aarão',\n",
       " 'Abel',\n",
       " 'Abelardo',\n",
       " 'Abissínia',\n",
       " 'Abner',\n",
       " 'Abraão',\n",
       " 'Absalão',\n",
       " 'Acab',\n",
       " 'Acaia',\n",
       " 'Acker',\n",
       " 'Aconcágua',\n",
       " 'Acre',\n",
       " 'Acrópole',\n",
       " 'Adauto',\n",
       " 'Ademir',\n",
       " 'Adhemar',\n",
       " 'Adolfo',\n",
       " 'Adriana',\n",
       " 'Adriano',\n",
       " 'Adriático',\n",
       " 'Adroaldo',\n",
       " 'Afeganistão',\n",
       " 'Afonso',\n",
       " 'Afrodite',\n",
       " 'Agostinho',\n",
       " 'Aires',\n",
       " 'Ajax',\n",
       " 'Alagoas',\n",
       " 'Alair',\n",
       " 'Alarico',\n",
       " 'Alasca',\n",
       " 'Alberta',\n",
       " 'Albertina',\n",
       " 'Alberto',\n",
       " 'Alceu',\n",
       " 'Alcibíades',\n",
       " 'Alcino',\n",
       " 'Aldebarã',\n",
       " 'Alemanha',\n",
       " 'Alencar',\n",
       " 'Alexandra',\n",
       " 'Alexandre',\n",
       " 'Alexandria',\n",
       " 'Alfredo',\n",
       " 'Algol',\n",
       " 'Aline',\n",
       " 'Alpes',\n",
       " 'Alsácia',\n",
       " 'Altair',\n",
       " 'Alvarenga',\n",
       " 'Alá',\n",
       " 'Amadeu',\n",
       " 'Amapá',\n",
       " 'Amazonas',\n",
       " 'Amazônia',\n",
       " 'Ambrósio',\n",
       " 'Amália',\n",
       " 'América',\n",
       " 'Ana',\n",
       " 'Anastácia',\n",
       " 'Anastácio',\n",
       " 'Anatólia',\n",
       " 'Anaxágoras',\n",
       " 'Ancara',\n",
       " 'Andaluzia',\n",
       " 'Andorra',\n",
       " 'Andrade',\n",
       " 'André',\n",
       " 'Andréa',\n",
       " 'Andrômeda',\n",
       " 'Angola',\n",
       " 'Anselmo',\n",
       " 'Antares',\n",
       " 'Antilhas',\n",
       " 'Antioquia',\n",
       " 'Antonieta',\n",
       " 'Antonina',\n",
       " 'Antonino',\n",
       " 'Antuérpia',\n",
       " 'Antártica',\n",
       " 'Antártida',\n",
       " 'Antíoco',\n",
       " 'Antônia',\n",
       " 'Antônio',\n",
       " 'Anás',\n",
       " 'Aparecida',\n",
       " 'Apolônio',\n",
       " 'Aquiles',\n",
       " 'Aquitânia',\n",
       " 'Aracaju',\n",
       " 'Araguaia',\n",
       " 'Aragão',\n",
       " 'Aral',\n",
       " 'Ararat',\n",
       " 'Areópago',\n",
       " 'Argel',\n",
       " 'Argentina',\n",
       " 'Argos',\n",
       " 'Ariadne']"
      ]
     },
     "execution_count": 18,
     "metadata": {},
     "output_type": "execute_result"
    }
   ],
   "source": [
    "words[:100]"
   ]
  },
  {
   "cell_type": "code",
   "execution_count": 35,
   "metadata": {},
   "outputs": [],
   "source": [
    "newwords = list(filter(lambda x: True if 'vl' in x else None, words))"
   ]
  },
  {
   "cell_type": "code",
   "execution_count": 36,
   "metadata": {},
   "outputs": [
    {
     "data": {
      "text/plain": [
       "[]"
      ]
     },
     "execution_count": 36,
     "metadata": {},
     "output_type": "execute_result"
    }
   ],
   "source": [
    "newwords\n"
   ]
  },
  {
   "cell_type": "code",
   "execution_count": 37,
   "metadata": {},
   "outputs": [
    {
     "ename": "ModuleNotFoundError",
     "evalue": "No module named 'nltk.examples'",
     "output_type": "error",
     "traceback": [
      "\u001b[0;31m---------------------------------------------------------------------------\u001b[0m",
      "\u001b[0;31mModuleNotFoundError\u001b[0m                       Traceback (most recent call last)",
      "Cell \u001b[0;32mIn[37], line 1\u001b[0m\n\u001b[0;32m----> 1\u001b[0m \u001b[39mfrom\u001b[39;00m \u001b[39mnltk\u001b[39;00m\u001b[39m.\u001b[39;00m\u001b[39mexamples\u001b[39;00m\u001b[39m.\u001b[39;00m\u001b[39mpt\u001b[39;00m \u001b[39mimport\u001b[39;00m \u001b[39m*\u001b[39m\n",
      "\u001b[0;31mModuleNotFoundError\u001b[0m: No module named 'nltk.examples'"
     ]
    }
   ],
   "source": [
    "from nltk.examples.pt import *"
   ]
  },
  {
   "cell_type": "code",
   "execution_count": 38,
   "metadata": {},
   "outputs": [
    {
     "name": "stdout",
     "output_type": "stream",
     "text": [
      "Apple está querendo comprar uma startup do Reino Unido por 100 milhões de dólares\n",
      "Apple PROPN nsubj\n",
      "está AUX aux\n",
      "querendo VERB ROOT\n",
      "comprar VERB xcomp\n",
      "uma DET det\n",
      "startup NOUN obj\n",
      "do ADP case\n",
      "Reino PROPN nmod\n",
      "Unido PROPN flat:name\n",
      "por ADP case\n",
      "100 NUM obl\n",
      "milhões NUM flat\n",
      "de ADP case\n",
      "dólares NOUN nmod\n"
     ]
    }
   ],
   "source": [
    "import spacy\n",
    "from spacy.lang.pt.examples import sentences \n",
    "\n",
    "nlp = spacy.load(\"pt_core_news_sm\")\n",
    "doc = nlp(sentences[0])\n",
    "print(doc.text)\n",
    "for token in doc:\n",
    "    print(token.text, token.pos_, token.dep_)"
   ]
  },
  {
   "cell_type": "code",
   "execution_count": 39,
   "metadata": {},
   "outputs": [
    {
     "data": {
      "text/plain": [
       "['Apple está querendo comprar uma startup do Reino Unido por 100 milhões de dólares',\n",
       " 'Carros autônomos empurram a responsabilidade do seguro para os fabricantes.São Francisco considera banir os robôs de entrega que andam pelas calçadas',\n",
       " 'Londres é a maior cidade do Reino Unido']"
      ]
     },
     "execution_count": 39,
     "metadata": {},
     "output_type": "execute_result"
    }
   ],
   "source": [
    "from spacy.lang.pt.examples import "
   ]
  },
  {
   "cell_type": "code",
   "execution_count": 40,
   "metadata": {},
   "outputs": [],
   "source": [
    "from nltk.test.portuguese_en_fixt import setup_module"
   ]
  },
  {
   "cell_type": "code",
   "execution_count": 43,
   "metadata": {},
   "outputs": [
    {
     "ename": "Skipped",
     "evalue": "portuguese_en.doctest imports nltk.examples.pt which doesn't exist!",
     "output_type": "error",
     "traceback": [
      "\u001b[0;31m---------------------------------------------------------------------------\u001b[0m",
      "\u001b[0;31mSkipped\u001b[0m                                   Traceback (most recent call last)",
      "Cell \u001b[0;32mIn[43], line 1\u001b[0m\n\u001b[0;32m----> 1\u001b[0m setup_module()\n",
      "File \u001b[0;32m~/venv/lib/python3.8/site-packages/nltk/test/portuguese_en_fixt.py:4\u001b[0m, in \u001b[0;36msetup_module\u001b[0;34m()\u001b[0m\n\u001b[1;32m      1\u001b[0m \u001b[39mdef\u001b[39;00m \u001b[39msetup_module\u001b[39m():\n\u001b[1;32m      2\u001b[0m     \u001b[39mimport\u001b[39;00m \u001b[39mpytest\u001b[39;00m\n\u001b[0;32m----> 4\u001b[0m     pytest\u001b[39m.\u001b[39;49mskip(\u001b[39m\"\u001b[39;49m\u001b[39mportuguese_en.doctest imports nltk.examples.pt which doesn\u001b[39;49m\u001b[39m'\u001b[39;49m\u001b[39mt exist!\u001b[39;49m\u001b[39m\"\u001b[39;49m)\n",
      "File \u001b[0;32m~/venv/lib/python3.8/site-packages/_pytest/outcomes.py:179\u001b[0m, in \u001b[0;36mskip\u001b[0;34m(reason, allow_module_level, msg)\u001b[0m\n\u001b[1;32m    177\u001b[0m __tracebackhide__ \u001b[39m=\u001b[39m \u001b[39mTrue\u001b[39;00m\n\u001b[1;32m    178\u001b[0m reason \u001b[39m=\u001b[39m _resolve_msg_to_reason(\u001b[39m\"\u001b[39m\u001b[39mskip\u001b[39m\u001b[39m\"\u001b[39m, reason, msg)\n\u001b[0;32m--> 179\u001b[0m \u001b[39mraise\u001b[39;00m Skipped(msg\u001b[39m=\u001b[39mreason, allow_module_level\u001b[39m=\u001b[39mallow_module_level)\n",
      "\u001b[0;31mSkipped\u001b[0m: portuguese_en.doctest imports nltk.examples.pt which doesn't exist!"
     ]
    }
   ],
   "source": [
    "setup_module()"
   ]
  },
  {
   "cell_type": "code",
   "execution_count": null,
   "metadata": {},
   "outputs": [],
   "source": []
  }
 ],
 "metadata": {
  "kernelspec": {
   "display_name": "venv",
   "language": "python",
   "name": "python3"
  },
  "language_info": {
   "codemirror_mode": {
    "name": "ipython",
    "version": 3
   },
   "file_extension": ".py",
   "mimetype": "text/x-python",
   "name": "python",
   "nbconvert_exporter": "python",
   "pygments_lexer": "ipython3",
   "version": "3.8.10"
  },
  "orig_nbformat": 4
 },
 "nbformat": 4,
 "nbformat_minor": 2
}
